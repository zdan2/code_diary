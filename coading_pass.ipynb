{
  "nbformat": 4,
  "nbformat_minor": 0,
  "metadata": {
    "colab": {
      "provenance": [],
      "authorship_tag": "ABX9TyPYODewakITf2WTFJYdHWcq",
      "include_colab_link": true
    },
    "kernelspec": {
      "name": "python3",
      "display_name": "Python 3"
    },
    "language_info": {
      "name": "python"
    }
  },
  "cells": [
    {
      "cell_type": "markdown",
      "metadata": {
        "id": "view-in-github",
        "colab_type": "text"
      },
      "source": [
        "<a href=\"https://colab.research.google.com/github/zdan2/code_diary/blob/master/coading_pass.ipynb\" target=\"_parent\"><img src=\"https://colab.research.google.com/assets/colab-badge.svg\" alt=\"Open In Colab\"/></a>"
      ]
    },
    {
      "cell_type": "markdown",
      "source": [
        "## ２つの足し算ん"
      ],
      "metadata": {
        "id": "JPb1bJG8sTP7"
      }
    },
    {
      "cell_type": "code",
      "execution_count": null,
      "metadata": {
        "id": "ZgvkhCI4XF7d"
      },
      "outputs": [],
      "source": [
        "def two_sum(arr,target):\n",
        "    n=len(arr)\n",
        "    for i in range(n-1):\n",
        "        for j in range(i+1,n):\n",
        "            if arr[i]+arr[j]==target:\n",
        "                return [i,j]\n",
        "    else:\n",
        "         return False\n",
        "\n",
        "\n",
        "assert two_sum([2,7,11,5],9)==[0,1]\n",
        "assert two_sum([3,2,4],6)==[1,2]\n",
        "assert two_sum([3,3],6)==[0,1]"
      ]
    },
    {
      "cell_type": "markdown",
      "source": [
        "## ２つの足し算２"
      ],
      "metadata": {
        "id": "924B1kFRsaw1"
      }
    },
    {
      "cell_type": "code",
      "source": [
        "from collections import Counter\n",
        "def two_sum(arr,target):\n",
        "    c=Counter(arr)\n",
        "    for k,v in c.items():\n",
        "        p=target-k\n",
        "        if p==k and c[p]==1:\n",
        "            continue\n",
        "        else:\n",
        "            r=[]\n",
        "            for i in range(len(arr)):\n",
        "                if arr[i]==p:\n",
        "                    r.append(i)\n",
        "                if len(r)==2:\n",
        "                    return r\n",
        "        if p in c:\n",
        "            a1=arr.index(p)\n",
        "            a2=arr.index(k)\n",
        "\n",
        "            return [min(a1,a2),max(a1,a2)]\n",
        "\n",
        "assert two_sum([2,7,11,5],9)==[0,1]\n",
        "assert two_sum([3,2,4],6)==[1,2]\n",
        "assert two_sum([3,3],6)==[0,1]"
      ],
      "metadata": {
        "id": "GdqNfTieZS0r"
      },
      "execution_count": null,
      "outputs": []
    },
    {
      "cell_type": "code",
      "source": [
        "from collections import defaultdict\n",
        "def two_sum(arr,target):\n",
        "    d=defaultdict(int)\n",
        "    for i in range(len(arr)):\n",
        "        if target-arr[i] in d:\n",
        "            return[d[target-arr[i]],i]\n",
        "        else:\n",
        "            if arr[i] in d:\n",
        "                continue\n",
        "            d[arr[i]]=i\n",
        "    return False\n",
        "\n",
        "assert two_sum([2,7,11,5],9)==[0,1]\n",
        "assert two_sum([3,2,4],6)==[1,2]\n",
        "assert two_sum([3,3],6)==[0,1]"
      ],
      "metadata": {
        "id": "q_JfsLK0c65u"
      },
      "execution_count": null,
      "outputs": []
    },
    {
      "cell_type": "markdown",
      "source": [
        "## 正しいカッコ"
      ],
      "metadata": {
        "id": "TwNg6-hFs2u5"
      }
    },
    {
      "cell_type": "code",
      "source": [
        "def valid_br(s):\n",
        "    d={']':'[','}':'{',')':'('}\n",
        "    stack=[]\n",
        "    for e in s:\n",
        "        if e not in d:\n",
        "            stack.append(e)\n",
        "        else:\n",
        "            if not stack or stack.pop()!=d[e]:\n",
        "                return False\n",
        "    return not stack\n",
        "\n",
        "assert valid_br('()')==True\n",
        "assert valid_br('()[]{}')==True\n",
        "assert valid_br('(]')==False\n",
        "assert valid_br('([)]')==False\n",
        "assert valid_br('{[]}')==True\n",
        "assert valid_br('')==True\n"
      ],
      "metadata": {
        "id": "2PySe-1OeGet"
      },
      "execution_count": null,
      "outputs": []
    },
    {
      "cell_type": "code",
      "source": [
        "class LinkNode:\n",
        "    def __init__(self,value):\n",
        "        self.value = value\n",
        "        self.next = None\n",
        "\n",
        "def create_llist(arr):\n",
        "    head = LinkNode(arr[0])\n",
        "\n",
        "    cur=head\n",
        "    for nxt in arr[1:]:\n",
        "        cur.next = LinkNode(nxt)\n",
        "        cur=cur.next\n",
        "    return head\n",
        "\n",
        "def display(head):\n",
        "    while head:\n",
        "        print(head.value,end='=>')\n",
        "        head=head.next\n",
        "    print('None')\n",
        "\n",
        "def returned_llist(head):\n",
        "    pre=None\n",
        "    cur=head\n",
        "    while cur.next:\n",
        "        next_node=cur.next\n",
        "        cur.next=pre\n",
        "        pre=cur\n",
        "        cur=next_node\n",
        "    cur.next=pre\n",
        "    return cur\n",
        "\n",
        "h=create_llist([1,2,10,4,5])\n",
        "display(h)\n",
        "rh=returned_llist(h)\n",
        "display(rh)"
      ],
      "metadata": {
        "colab": {
          "base_uri": "https://localhost:8080/"
        },
        "id": "pOO9IncMS_EO",
        "outputId": "87ecfd74-e536-482f-95ce-3e3156032264"
      },
      "execution_count": null,
      "outputs": [
        {
          "output_type": "stream",
          "name": "stdout",
          "text": [
            "1=>2=>10=>4=>5=>None\n",
            "5=>4=>10=>2=>1=>None\n"
          ]
        }
      ]
    },
    {
      "cell_type": "code",
      "source": [
        "class TreeNode:\n",
        "    def __init__(self, val=0, left=None, right=None):\n",
        "        self.val = val\n",
        "        self.left = left   # 左の子ノードへのポインタ\n",
        "        self.right = right # 右の子ノードへのポインタ\n",
        "\n",
        "def make_tree(arr, i=0):\n",
        "    if i >= len(arr) or arr[i] is None:\n",
        "        return None\n",
        "    node = TreeNode(arr[i])\n",
        "    node.left = make_tree(arr, 2*i + 1)\n",
        "    node.right = make_tree(arr, 2*i + 2)\n",
        "    return node\n",
        "\n",
        "def display_tree_inorder(root):\n",
        "    if root is None:\n",
        "        return\n",
        "    display_tree_inorder(root.left)\n",
        "    print(root.val, end=' ')\n",
        "    display_tree_inorder(root.right)\n",
        "\n",
        "def max_depth(node):\n",
        "    if node is None:\n",
        "        return 0\n",
        "    else:\n",
        "        l_depth=max_depth(node.left)\n",
        "        r_depth=max_depth(node.right)\n",
        "        return max(l_depth,r_depth)+1\n",
        "\n",
        "\n",
        "arr=[3,9,20,None,None,15,7]\n",
        "tree=make_tree(arr)\n",
        "r=max_depth(tree)\n",
        "print('max depth:',r)\n"
      ],
      "metadata": {
        "colab": {
          "base_uri": "https://localhost:8080/"
        },
        "id": "2pH7Te1qhTug",
        "outputId": "21d44d92-6ff7-4e09-a94d-a77161c7b75d"
      },
      "execution_count": null,
      "outputs": [
        {
          "output_type": "stream",
          "name": "stdout",
          "text": [
            "max depth: 3\n"
          ]
        }
      ]
    },
    {
      "cell_type": "code",
      "metadata": {
        "colab": {
          "base_uri": "https://localhost:8080/"
        },
        "id": "58816c6d",
        "outputId": "1a97d0d4-223f-4eb9-e22d-18e369df6992"
      },
      "source": [
        "\n",
        "def display_tree_inorder(root):\n",
        "    if root is None:\n",
        "        return\n",
        "    display_tree_inorder(root.left)\n",
        "    print(root.val, end=' ')\n",
        "    display_tree_inorder(root.right)\n",
        "\n",
        "\n",
        "\n",
        "print(\"In-order traversal:\")\n",
        "display_tree_inorder(root_example)\n",
        "print(\"\\n\")"
      ],
      "execution_count": null,
      "outputs": [
        {
          "output_type": "stream",
          "name": "stdout",
          "text": [
            "In-order traversal:\n",
            "4 2 5 1 3 \n",
            "\n"
          ]
        }
      ]
    },
    {
      "cell_type": "code",
      "source": [
        "def cl_stas(n):\n",
        "    dp=[0]*(n+1)\n",
        "    dp[0]=1\n",
        "    dp[1]=1\n",
        "    for i in range(2,n+1):\n",
        "        dp[i]=dp[i-1]+dp[i-2]\n",
        "    return dp[n]\n",
        "\n",
        "assert cl_stas(2)==2\n",
        "assert cl_stas(3)==3\n",
        "assert cl_stas(5)==8\n"
      ],
      "metadata": {
        "id": "wi4dczdZ2ncf"
      },
      "execution_count": null,
      "outputs": []
    },
    {
      "cell_type": "code",
      "source": [
        "def rec_solve(n):\n",
        "    if n==0:\n",
        "        return 1\n",
        "    if n==1:\n",
        "        return 1\n",
        "    return rec_solve(n-1)+rec_solve(n-2)\n",
        "\n",
        "assert rec_solve(2)==2\n",
        "assert rec_solve(3)==3\n",
        "assert rec_solve(5)==8"
      ],
      "metadata": {
        "id": "Mpj9c1tt3RG_"
      },
      "execution_count": null,
      "outputs": []
    },
    {
      "cell_type": "code",
      "source": [
        "from collections import defaultdict, deque\n",
        "def lswrc(s):\n",
        "    n=len(s)\n",
        "    right=0\n",
        "    letter_dict=defaultdict(int)\n",
        "    q=deque()\n",
        "    max_len=0\n",
        "    left=right\n",
        "    while right<n:\n",
        "        if s[right] not in letter_dict:\n",
        "            letter_dict[s[right]]=right\n",
        "            q.append(s[right])\n",
        "            max_len=max(max_len,right-left+1)\n",
        "        else:\n",
        "            while q:\n",
        "                k=q.popleft()\n",
        "                if k==s[right]:\n",
        "                    break\n",
        "                else:\n",
        "                    del letter_dict[k]\n",
        "            if q:\n",
        "                left=letter_dict[q[0]]\n",
        "                max_len=max(max_len,right-left+1)\n",
        "            else:\n",
        "                left=right\n",
        "        right+=1\n",
        "    return max_len\n",
        "\n",
        "s='abcabcbb'\n",
        "s1='aaazxyfghaaaa'\n",
        "print(lswrc(s1))\n"
      ],
      "metadata": {
        "colab": {
          "base_uri": "https://localhost:8080/"
        },
        "id": "DsXCcSCvJBqV",
        "outputId": "55e9fbdb-b98c-4262-bb18-74b794556bb8"
      },
      "execution_count": null,
      "outputs": [
        {
          "output_type": "stream",
          "name": "stdout",
          "text": [
            "7\n"
          ]
        }
      ]
    },
    {
      "cell_type": "code",
      "source": [
        "from collections import defaultdict\n",
        "def lswrc(s):\n",
        "    n=len(s)\n",
        "    right=0\n",
        "    left=0\n",
        "    letter_dict=defaultdict(int)\n",
        "    max_len=0\n",
        "    while right<n:\n",
        "        if s[right] not in letter_dict:\n",
        "            letter_dict[s[right]]=right\n",
        "        else:\n",
        "            left=max(left,letter_dict[s[right]]+1)\n",
        "            letter_dict[s[right]]=right\n",
        "        max_len=max(max_len,right-left+1)\n",
        "        right+=1\n",
        "    return max_len\n",
        "\n",
        "s='abcabcbb'\n",
        "s1='aaazxyfghaaaa'\n",
        "print(lswrc(s1))\n"
      ],
      "metadata": {
        "colab": {
          "base_uri": "https://localhost:8080/"
        },
        "id": "5aXDp8_6JBdU",
        "outputId": "0163b9e4-70ff-4f82-f006-888381e78100"
      },
      "execution_count": null,
      "outputs": [
        {
          "output_type": "stream",
          "name": "stdout",
          "text": [
            "8\n"
          ]
        }
      ]
    },
    {
      "cell_type": "markdown",
      "source": [
        "# P01 配列の積（自分以外）\n",
        "関数: def product_except_self(nums: List[int]) -> List[int]\n",
        "\n",
        "入力: 長さ n (2 ≤ n ≤ 2e5), 要素は |ai| ≤ 30。0 を含む可能性あり。\n",
        "\n",
        "出力: ans[i] = ∏_{j≠i} nums[j] を格納した長さ n の配列。\n",
        "\n",
        "例: [1,2,3,4] -> [24,12,8,6], [0,1,2] -> [2,0,0]\n",
        "\n",
        "目標: 除算禁止、O(n) 時間、O(1) 追加空間（出力除く）。\n",
        "\n",
        "フォローアップ: 0 が複数あるときの扱いを説明。負数混在の直感を言語化。"
      ],
      "metadata": {
        "id": "G6mUAN03tOIz"
      }
    },
    {
      "cell_type": "code",
      "source": [
        "def product_except_self(nums):\n",
        "    from_left=[nums[0]]\n",
        "    for e in nums[1:]:\n",
        "        from_left.append(from_left[-1]*e)\n",
        "    from_right=[nums[-1]]\n",
        "    for e in nums[-2::-1]:\n",
        "        from_right.append(from_right[-1]*e)\n",
        "    r=[]\n",
        "    for i in range(len(nums)):\n",
        "        if i==0:\n",
        "            r.append(from_right[-2])\n",
        "        elif i==len(nums)-1:\n",
        "            r.append(from_left[-2])\n",
        "        else:\n",
        "            r.append(from_left[i-1]*from_right[len(nums)-i-2])\n",
        "    return r\n",
        "\n",
        "print(product_except_self([0,1,2]))\n",
        "\n",
        "product_except_self([12,2,2,3,5])\n"
      ],
      "metadata": {
        "colab": {
          "base_uri": "https://localhost:8080/"
        },
        "id": "dBj-vPqbtLJj",
        "outputId": "bff7ad95-249a-4d0d-cc76-06f6b763f959"
      },
      "execution_count": null,
      "outputs": [
        {
          "output_type": "stream",
          "name": "stdout",
          "text": [
            "[2, 0, 0]\n"
          ]
        },
        {
          "output_type": "execute_result",
          "data": {
            "text/plain": [
              "[60, 360, 360, 240, 144]"
            ]
          },
          "metadata": {},
          "execution_count": 42
        }
      ]
    },
    {
      "cell_type": "code",
      "source": [
        "from typing import List\n",
        "\n",
        "def product_except_self(nums: List[int]) -> List[int]:\n",
        "    n = len(nums)\n",
        "    res = [1] * n\n",
        "\n",
        "    # 左側の積（自分より左のすべて）\n",
        "    for i in range(1, n):\n",
        "        res[i] = res[i - 1] * nums[i - 1]\n",
        "\n",
        "    # 右側の積を一時変数で持ち、右から掛ける\n",
        "    right = 1\n",
        "    for i in range(n - 1, -1, -1):\n",
        "        res[i] *= right\n",
        "        right *= nums[i]\n",
        "\n",
        "    return res\n"
      ],
      "metadata": {
        "id": "Mjh5p2bHzMEF"
      },
      "execution_count": null,
      "outputs": []
    },
    {
      "cell_type": "markdown",
      "source": [
        "# P02 最大部分配列和（Kadane）\n",
        "関数: def max_subarray(nums: List[int]) -> int\n",
        "\n",
        "入力: n ≤ 2e5, |ai| ≤ 1e4\n",
        "\n",
        "出力: 連続部分配列の最大和。\n",
        "\n",
        "例: [-2,1,-3,4,-1,2,1,-5,4] -> 6（[4,-1,2,1]）\n",
        "\n",
        "目標: O(n)/O(1)。\n",
        "\n",
        "フォローアップ: 「空配列不可」のときの初期値の取り方を説明。"
      ],
      "metadata": {
        "id": "aCGBgjS82NN2"
      }
    },
    {
      "cell_type": "code",
      "source": [
        "def max_subarray(nums):\n",
        "    n=len(nums)\n",
        "    cur_sum=-float('inf')\n",
        "    max_sum=-float('inf')\n",
        "    for i in range(n):\n",
        "        cur_sum=max(nums[i],cur_sum+nums[i])\n",
        "        max_sum=max(max_sum,cur_sum)\n",
        "    return max_sum\n",
        "\n",
        "max_subarray([-2,1,-3,4,-1,2,1,-5,4])\n"
      ],
      "metadata": {
        "colab": {
          "base_uri": "https://localhost:8080/"
        },
        "id": "rsHLGC--2JKR",
        "outputId": "83bbdf10-3d8f-4856-9fa1-b89f25a5e9fc"
      },
      "execution_count": null,
      "outputs": [
        {
          "output_type": "execute_result",
          "data": {
            "text/plain": [
              "6"
            ]
          },
          "metadata": {},
          "execution_count": 43
        }
      ]
    },
    {
      "cell_type": "code",
      "source": [
        "def length_of_longest_sbbstring(s):\n",
        "    n=len(s)\n",
        "    letters={}\n",
        "    l=0\n",
        "    best=0\n",
        "    for i in range(n):\n",
        "        if s[i] not in letters:\n",
        "            letters[s[i]]=i\n",
        "        else:\n",
        "            l=max(l,letters[s[i]]+1)\n",
        "            letters[s[i]]=i\n",
        "        best=max(best,i-l+1)\n",
        "    return best\n",
        "\n",
        "length_of_longest_sbbstring('abcabcbb')\n",
        "\n"
      ],
      "metadata": {
        "colab": {
          "base_uri": "https://localhost:8080/"
        },
        "id": "VeCkwYG4W7db",
        "outputId": "de3496a8-a908-4a41-d3f0-aac70e91c962"
      },
      "execution_count": null,
      "outputs": [
        {
          "output_type": "execute_result",
          "data": {
            "text/plain": [
              "3"
            ]
          },
          "metadata": {},
          "execution_count": 1
        }
      ]
    },
    {
      "cell_type": "markdown",
      "source": [
        "# P05 区間マージ\n",
        "\n",
        "関数: def merge_intervals(intervals: List[List[int]]) -> List[List[int]]\n",
        "\n",
        "入力: intervals[i]=[l,r], l ≤ r, n ≤ 2e5\n",
        "\n",
        "出力: 重なる区間をマージした集合（開始昇順）。\n",
        "\n",
        "例: [[1,3],[2,6],[8,10],[15,18]] -> [[1,6],[8,10],[15,18]]\n",
        "\n",
        "目標: O(n log n)/O(n)。\n",
        "\n",
        "フォローアップ: 開始が同値のときの安定性をどう扱う？"
      ],
      "metadata": {
        "id": "nwS-SvTxjE6i"
      }
    },
    {
      "cell_type": "code",
      "source": [
        "def merge_intervals(arr):\n",
        "    if not arr:\n",
        "        return []\n",
        "    sorted_arr=sorted(arr,key=lambda x:x[0])\n",
        "    merged=[]\n",
        "    cur_l=sorted_arr[0][0]\n",
        "    cur_r=sorted_arr[0][1]\n",
        "    for l,r in sorted_arr[1:]:\n",
        "        if l>cur_r:\n",
        "            merged.append([cur_l,cur_r])\n",
        "            cur_l=l\n",
        "            cur_r=r\n",
        "        else:\n",
        "            cur_l=min(cur_l,l)\n",
        "            cur_r=max(cur_r,r)\n",
        "    merged.append([cur_l,cur_r])\n",
        "    return merged\n",
        "\n",
        "merge_intervals([[1,3],[2,6],[8,10],[15,18]])"
      ],
      "metadata": {
        "colab": {
          "base_uri": "https://localhost:8080/"
        },
        "id": "IlX14P5DjAAe",
        "outputId": "b00d1a40-d6b9-4b56-f0f0-6e4af2b77181"
      },
      "execution_count": null,
      "outputs": [
        {
          "output_type": "execute_result",
          "data": {
            "text/plain": [
              "[[1, 6], [8, 10], [15, 18]]"
            ]
          },
          "metadata": {},
          "execution_count": 7
        }
      ]
    },
    {
      "cell_type": "code",
      "source": [
        "tests = [\n",
        "    ([[1,3],[2,6],[8,10],[15,18]], [[1,6],[8,10],[15,18]]),\n",
        "    ([[1,4],[4,5]], [[1,5]]),  # 端点接続\n",
        "    ([[2,3],[4,5],[1,10]], [[1,10]]),  # あなたの実装が落ちる反例\n",
        "    ([[5,6],[2,3],[4,4]], [[2,3],[4,4],[5,6]]),  # ソートと初期化の不具合の反例\n",
        "    ([[1,2]], [[1,2]]),  # 単一\n",
        "    ([], []),  # 空入力\n",
        "]\n",
        "for arr, expect in tests:\n",
        "    assert merge_intervals(arr) == expect, (arr, merge_intervals(arr))\n",
        "print(\"OK\")\n"
      ],
      "metadata": {
        "colab": {
          "base_uri": "https://localhost:8080/"
        },
        "id": "G3um4ouEm4e3",
        "outputId": "f26302dd-a2f1-4719-ef3d-4a3e36e22a71"
      },
      "execution_count": null,
      "outputs": [
        {
          "output_type": "stream",
          "name": "stdout",
          "text": [
            "OK\n"
          ]
        }
      ]
    },
    {
      "cell_type": "markdown",
      "source": [
        "P06 Top K 出現頻度要素\n",
        "\n",
        "関数: def top_k_frequent(nums: List[int], k: int) -> List[int]\n",
        "\n",
        "入力: n ≤ 2e5, 値域は広くてOK\n",
        "\n",
        "出力: 頻度上位 k 要素（順序は任意で可）。\n",
        "\n",
        "例: [1,1,1,2,2,3], k=2 -> [1,2]\n",
        "\n",
        "目標: O(n log k) / O(n)。\n",
        "\n",
        "フォローアップ: バケット/計数で O(n) を目指す条件は？"
      ],
      "metadata": {
        "id": "1x1zKHw0pcqU"
      }
    },
    {
      "cell_type": "code",
      "source": [
        "#P06 Top K 出現頻度要素\n",
        "import heapq\n",
        "from collections import Counter\n",
        "def top_k_frequent(nums, k) :\n",
        "    count_dict = Counter(nums)\n",
        "    hq = []\n",
        "    for key,val in count_dict.items():\n",
        "        heapq.heappush(hq, [-val, key])\n",
        "    res = []\n",
        "    for _ in range(k):\n",
        "        _, key =heapq.heappop(hq)\n",
        "        res.append(key)\n",
        "    return res\n",
        "\n",
        "arr=[1,1,1,2,2,3,4,4,4,4,4,4]\n",
        "top_k_frequent(arr,2)\n",
        "\n"
      ],
      "metadata": {
        "colab": {
          "base_uri": "https://localhost:8080/"
        },
        "id": "cNl_IrRcnf-J",
        "outputId": "e4fe2c9d-e4cb-4ad0-d1b9-dfcee95ef203"
      },
      "execution_count": null,
      "outputs": [
        {
          "output_type": "execute_result",
          "data": {
            "text/plain": [
              "[4, 1]"
            ]
          },
          "metadata": {},
          "execution_count": 14
        }
      ]
    },
    {
      "cell_type": "markdown",
      "source": [
        "問題定義（仕様）\n",
        "\n",
        "関数: def daily_temperatures(temps: List[int]) -> List[int]\n",
        "\n",
        "入力: temps は長さ n の整数配列。n は 1 ≤ n ≤ 2*10^5 程度を想定（十分大きくても O(n) で解ける）。\n",
        "温度は任意の整数でよい（例: −50〜150）。\n",
        "\n",
        "出力: 長さ n の配列 ans。\n",
        "各 i について、「将来（j>i）で初めて temps[j] > temps[i]（厳密に高い） となる j が存在すれば ans[i] = j - i、存在しなければ ans[i] = 0」。\n",
        "\n",
        "厳密性: “高い”は厳密（>）。等しい（==）は高くないのでカウントしない。\n",
        "\n",
        "例\n",
        "\n",
        "temps = [73,74,75,71,69,72,76,73] → ans = [1,1,4,2,1,1,0,0]\n",
        "\n",
        "temps = [30,40,50,60] → [1,1,1,0]\n",
        "\n",
        "temps = [30,60,90] → [1,1,0]\n",
        "\n",
        "temps = [70,70,70] → [0,0,0]（等しいのは“高くない”）"
      ],
      "metadata": {
        "id": "XvzyP5ZaxSug"
      }
    },
    {
      "cell_type": "code",
      "source": [
        "def daily_temperatures(temps):\n",
        "    stack=[(0,temps[0])]\n",
        "    res=[0]*len(temps)\n",
        "    for i in range(1,len(temps)):\n",
        "        while stack:\n",
        "            cur_i,cur_t=stack[-1]\n",
        "            if temps[i]>cur_t:\n",
        "                res[cur_i]=i-cur_i\n",
        "                stack.pop()\n",
        "            else:\n",
        "                break\n",
        "        stack.append((i,temps[i]))\n",
        "    return res\n",
        "\n",
        "temps = [73,74,75,71,69,72,76,73]\n",
        "daily_temperatures(temps)"
      ],
      "metadata": {
        "colab": {
          "base_uri": "https://localhost:8080/"
        },
        "id": "s4b7lAbsxYe8",
        "outputId": "dbfd09ad-b301-494d-dd82-80760462de55"
      },
      "execution_count": null,
      "outputs": [
        {
          "output_type": "execute_result",
          "data": {
            "text/plain": [
              "[1, 1, 4, 2, 1, 1, 0, 0]"
            ]
          },
          "metadata": {},
          "execution_count": 16
        }
      ]
    },
    {
      "cell_type": "markdown",
      "source": [],
      "metadata": {
        "id": "mOLP_7G4peEk"
      }
    },
    {
      "cell_type": "code",
      "source": [
        "from collections import deque\n",
        "\n",
        "class TreeNode:\n",
        "    def __init__(self, val=0, left=None, right=None):\n",
        "        self.val = val\n",
        "        self.left = left   # 左の子ノードへのポインタ\n",
        "        self.right = right # 右の子ノードへのポインタ\n",
        "\n",
        "def make_tree(arr, i=0):\n",
        "    if i >= len(arr) or arr[i] is None:\n",
        "        return None\n",
        "    node = TreeNode(arr[i])\n",
        "    node.left = make_tree(arr, 2*i + 1)\n",
        "    node.right = make_tree(arr, 2*i + 2)\n",
        "    return node\n",
        "\n",
        "def display_tree_inorder(root):\n",
        "    if root is None:\n",
        "        return\n",
        "    display_tree_inorder(root.left)\n",
        "    print(root.val, end=' ')\n",
        "    display_tree_inorder(root.right)\n",
        "\n",
        "def bin_tree_level_traversal(node):\n",
        "    q=deque()\n",
        "    q.append(node)\n",
        "    res=[]\n",
        "    while q:\n",
        "        cur_level=[]\n",
        "        n=len(q)\n",
        "        for _ in range(n):\n",
        "            cur=q.popleft()\n",
        "            cur_level.append(cur.val)\n",
        "            if cur.left:\n",
        "                q.append(cur.left)\n",
        "            if cur.right:\n",
        "                q.append(cur.right)\n",
        "        res.append(cur_level)\n",
        "    return res\n",
        "\n",
        "\n",
        "\n",
        "\n",
        "arr=[3,9,20,None,None,15,7]\n",
        "tree=make_tree(arr)\n",
        "r=bin_tree_level_traversal(tree)\n",
        "print(r)"
      ],
      "metadata": {
        "colab": {
          "base_uri": "https://localhost:8080/"
        },
        "id": "Vi5Vg7kTWhXX",
        "outputId": "f4d2539d-7d65-442d-feea-866407d63b31"
      },
      "execution_count": null,
      "outputs": [
        {
          "output_type": "stream",
          "name": "stdout",
          "text": [
            "[[3], [9, 20], [15, 7]]\n"
          ]
        }
      ]
    },
    {
      "cell_type": "code",
      "source": [
        "def bin_search_banana(arr,hour):\n",
        "    l=1\n",
        "    r=max(arr)\n",
        "    mid=(l+r)//2\n",
        "    while l<r:\n",
        "\n",
        "        c=sum((e+mid-1)//mid for e in arr)\n",
        "        if c<=hour:\n",
        "            r=mid\n",
        "        else:\n",
        "            l=mid+1\n",
        "        mid=(l+r)//2\n",
        "\n",
        "    return mid\n",
        "\n",
        "test = [[[3, 6, 7, 11],8],[[30, 11, 23, 4, 20],5],[[30, 11, 23, 4, 20],6]]\n",
        "for piles,h in test:\n",
        "    print(bin_search_banana(piles,h))\n",
        "\n"
      ],
      "metadata": {
        "colab": {
          "base_uri": "https://localhost:8080/"
        },
        "id": "aj7pOujQxTvO",
        "outputId": "740dc23c-4af7-437c-e300-75d30df89c87"
      },
      "execution_count": null,
      "outputs": [
        {
          "output_type": "stream",
          "name": "stdout",
          "text": [
            "4\n",
            "30\n",
            "23\n"
          ]
        }
      ]
    },
    {
      "cell_type": "code",
      "source": [
        "import heapq\n",
        "\n",
        "class WeightedGraph:\n",
        "    def __init__(self):\n",
        "        self.graph = {}\n",
        "\n",
        "    def add_node(self, node):\n",
        "        if node not in self.graph:\n",
        "            self.graph[node] = []\n",
        "\n",
        "    def add_edge(self, node1, node2, weight):\n",
        "        if node1 not in self.graph:\n",
        "            self.add_node(node1)\n",
        "        if node2 not in self.graph:\n",
        "            self.add_node(node2)\n",
        "        self.graph[node1].append((node2, weight))\n",
        "        self.graph[node2].append((node1, weight))  # 無向グラフなので両方向に追加\n",
        "\n",
        "    def display(self):\n",
        "        for node in self.graph:\n",
        "            print(f\"{node} -> {self.graph[node]}\")\n",
        "\n",
        "    def dijkstra(self, start):\n",
        "        # 初期化\n",
        "        distances = {node: float('inf') for node in self.graph}\n",
        "        distances[start] = 0\n",
        "        priority_queue = [(0, start)]\n",
        "\n",
        "        while priority_queue:\n",
        "            current_distance, current_node = heapq.heappop(priority_queue)\n",
        "\n",
        "            # 現在のノードに対する既知の距離が、キューから取り出した距離よりも小さい場合はスキップ\n",
        "            if current_distance > distances[current_node]:\n",
        "                continue\n",
        "\n",
        "            # 隣接ノードをチェック\n",
        "            for neighbor, weight in self.graph[current_node]:\n",
        "                distance = current_distance + weight\n",
        "\n",
        "                # より短い経路が見つかった場合、距離を更新\n",
        "                if distance < distances[neighbor]:\n",
        "                    distances[neighbor] = distance\n",
        "                    heapq.heappush(priority_queue, (distance, neighbor))\n",
        "\n",
        "        return distances\n",
        "\n",
        "# 使い方例\n",
        "g = WeightedGraph()\n",
        "g.add_edge('A', 'B', 5)\n",
        "g.add_edge('A', 'C', 3)\n",
        "g.add_edge('B', 'C', 2)\n",
        "g.add_edge('C', 'D', 1)\n",
        "g.display()\n",
        "# 'A' から各ノードへの最短距離を求める\n",
        "distances_from_a = g.dijkstra('A')\n",
        "print(distances_from_a)\n"
      ],
      "metadata": {
        "colab": {
          "base_uri": "https://localhost:8080/"
        },
        "id": "td_OAP3VZhX6",
        "outputId": "775ad949-8c51-4bd5-e82a-94239b745fd8"
      },
      "execution_count": null,
      "outputs": [
        {
          "output_type": "stream",
          "name": "stdout",
          "text": [
            "A -> [('B', 5), ('C', 3)]\n",
            "B -> [('A', 5), ('C', 2)]\n",
            "C -> [('A', 3), ('B', 2), ('D', 1)]\n",
            "D -> [('C', 1)]\n",
            "{'A': 0, 'B': 5, 'C': 3, 'D': 4}\n"
          ]
        }
      ]
    },
    {
      "cell_type": "code",
      "source": [
        "class Node:\n",
        "    def __init__(self,val):\n",
        "        self.val=val\n",
        "        self.next=None\n",
        "\n",
        "class LinkedList:\n",
        "    def __init__(self):\n",
        "        self.head=None\n",
        "\n",
        "    def make_list(self,arr):\n",
        "        if arr == []:\n",
        "            self.head = None\n",
        "            return None\n",
        "        self.head=Node(arr[0])\n",
        "        cur_node=self.head\n",
        "        for nxt in arr[1:]:\n",
        "            cur_node.next=Node(nxt)\n",
        "            cur_node=cur_node.next\n",
        "        return  self.head\n",
        "\n",
        "    def add_node(self,val):\n",
        "        if self.head==None:\n",
        "            self.head=Node(val)\n",
        "            return\n",
        "        cur_node=self.head\n",
        "        while cur_node.next:\n",
        "            cur_node=cur_node.next\n",
        "        cur_node.next=Node(val)\n",
        "\n",
        "    def display(self, limit=20):\n",
        "        cur = self.head\n",
        "        out = []\n",
        "        cnt = 0\n",
        "        while cur and cnt < limit:\n",
        "            out.append(str(cur.val))\n",
        "            cur = cur.next\n",
        "            cnt += 1\n",
        "        print(\"=>\".join(out) + (\"\" if cur is None else \"=>...\"))\n",
        "\n",
        "    def reverse_list(self):\n",
        "        if self.head is None:\n",
        "            return None\n",
        "        pre_node=None\n",
        "        cur_node=self.head\n",
        "        while cur_node.next:\n",
        "            next_node=cur_node.next\n",
        "            cur_node.next=pre_node\n",
        "            pre_node=cur_node\n",
        "            cur_node=next_node\n",
        "        self.head=cur_node\n",
        "        self.head.next=pre_node\n",
        "        return self.head\n",
        "\n",
        "    def make_cycle(self,cycle):\n",
        "        if not self.head or self.check_cycle():\n",
        "            return False\n",
        "        cur_node=self.head\n",
        "        tail=None\n",
        "        cycle_node=None\n",
        "        while cur_node:\n",
        "            if cycle_node is None and cur_node.val==cycle:\n",
        "                cycle_node=cur_node\n",
        "            tail=cur_node\n",
        "            cur_node=cur_node.next\n",
        "        if cycle_node is None:\n",
        "            return False\n",
        "        tail.next=cycle_node\n",
        "        return True\n",
        "\n",
        "    def check_cycle(self) :\n",
        "        slow = fast = self.head\n",
        "        while fast and fast.next:\n",
        "            slow = slow.next\n",
        "            fast = fast.next.next\n",
        "            if slow is fast:\n",
        "                return True\n",
        "        return False\n",
        "\n",
        "\n",
        "\n",
        "l=LinkedList()\n",
        "l.make_list([1,2,3,4,5])\n",
        "l.display()\n",
        "print(l.make_cycle(2))\n",
        "l.display()\n",
        "#l.check_cycle()\n",
        "#l.make_list([1,2,3,4,5])\n",
        "#l.check_cycle()\n",
        "\n",
        "\n"
      ],
      "metadata": {
        "colab": {
          "base_uri": "https://localhost:8080/"
        },
        "id": "xyl8bCxogvpF",
        "outputId": "af292247-89ef-48fb-f39f-90900bd73abd"
      },
      "execution_count": null,
      "outputs": [
        {
          "output_type": "stream",
          "name": "stdout",
          "text": [
            "1=>2=>3=>4=>5\n",
            "True\n",
            "1=>2=>3=>4=>5=>2=>3=>4=>5=>2=>3=>4=>5=>2=>3=>4=>5=>2=>3=>4=>...\n"
          ]
        }
      ]
    },
    {
      "cell_type": "code",
      "source": [],
      "metadata": {
        "id": "cQCjkeXE14ni"
      },
      "execution_count": null,
      "outputs": []
    },
    {
      "cell_type": "code",
      "source": [
        "from collections import deque\n",
        "\n",
        "def num_islands(grid):\n",
        "\n",
        "    q=deque()\n",
        "    visited=set()\n",
        "    h=len(grid)\n",
        "    w=len(grid[0])\n",
        "    def bsf(i,j):\n",
        "        if (i,j) in visited:\n",
        "            return 0\n",
        "        q=deque([(i,j)])\n",
        "        while q:\n",
        "            y,x=q.popleft()\n",
        "            visited.add((y,x))\n",
        "            dyx=[(1,0),(0,1),(-1,0),(0,-1)]#ここを[(1,0),(-1,0),(0,1),(0,-1),(1,1),(-1,-1),(-1,1),(1,-1)]にすれば8近傍も\n",
        "            for dy,dx in dyx:\n",
        "                ny=y+dy\n",
        "                nx=x+dx\n",
        "                if 0<=ny<h and 0<=nx<w and grid[ny][nx]=='1' and (ny,nx) not in visited:\n",
        "                    q.append((ny,nx))\n",
        "        return 1\n",
        "\n",
        "    c=0\n",
        "    for i in range(h):\n",
        "        for j in range(w):\n",
        "            if grid[i][j]=='1':\n",
        "                c+=bsf(i,j)\n",
        "    return c\n",
        "\n",
        "g=[\n",
        "    '11000',\n",
        "    '11000',\n",
        "    '00100',\n",
        "    '00011'\n",
        "    ]\n",
        "grid=[list(r) for r in g]\n",
        "\n",
        "print(num_islands(grid))\n",
        "\n",
        "g=[\n",
        "    '11110',\n",
        "    '11010',\n",
        "    '11000',\n",
        "    '00000'\n",
        "    ]\n",
        "grid=[list(r) for r in g]\n",
        "\n",
        "print(num_islands(grid))"
      ],
      "metadata": {
        "colab": {
          "base_uri": "https://localhost:8080/"
        },
        "id": "TOQEzb1wEONJ",
        "outputId": "319edf1e-7388-482d-e7f5-5e623778e8e2"
      },
      "execution_count": null,
      "outputs": [
        {
          "output_type": "stream",
          "name": "stdout",
          "text": [
            "3\n",
            "1\n"
          ]
        }
      ]
    },
    {
      "cell_type": "code",
      "source": [
        "from collections import defaultdict, deque\n",
        "\n",
        "class DSU:\n",
        "    def __init__(self,n):\n",
        "        self.parent=[i for i in range(n)]\n",
        "        self.size=[1]*n\n",
        "\n",
        "    def merge(self,a,b):\n",
        "        if a>b:\n",
        "            a,b=b,a\n",
        "        root_a=self.find(a)\n",
        "        root_b=self.find(b)\n",
        "        if root_a==root_b:\n",
        "            return\n",
        "        if self.size[root_b]>self.size[root_a]:\n",
        "            root_a,root_b=root_b,root_a\n",
        "        self.parent[root_b]=self.parent[root_a]\n",
        "        self.size[root_a]+=self.size[root_b]\n",
        "\n",
        "    def find(self,a):\n",
        "        if self.parent[a]==-1:\n",
        "            return -1\n",
        "        if self.parent[a]==a:\n",
        "            return a\n",
        "        self.parent[a]=self.find(self.parent[a])\n",
        "        return self.parent[a]\n",
        "\n",
        "    def groups(self):\n",
        "        group=defaultdict(list)\n",
        "        for i in range(len(self.size)):\n",
        "            p=self.find(i)\n",
        "            if p>=0:\n",
        "                group[p].append(i)\n",
        "        return group\n",
        "\n",
        "    def sea(self,a):\n",
        "        self.parent[a]=-1\n",
        "\n",
        "def search_islands(grid):\n",
        "    if not grid or not grid[0]:\n",
        "        return 0\n",
        "    h=len(grid)\n",
        "    w=len(grid[0])\n",
        "    dsu=DSU(h*w)\n",
        "    dyx=[(1,0),(0,1)]\n",
        "    for i in range(h):\n",
        "        for j in range(w):\n",
        "            if grid[i][j]=='1':\n",
        "                for dy,dx in dyx:\n",
        "                    ny=i+dy\n",
        "                    nx=j+dx\n",
        "                    if 0<=ny<h and 0<=nx<w:\n",
        "                        a=i*w+j\n",
        "                        b=ny*w+nx\n",
        "                        if grid[ny][nx]=='1':\n",
        "                            dsu.merge(a,b)\n",
        "            else:\n",
        "                a=i*w+j\n",
        "                dsu.sea(a)\n",
        "    return dsu.groups()\n",
        "\n",
        "grid = [\n",
        "[\"1\", \"1\", \"0\", \"0\", \"0\"],\n",
        "[\"1\", \"1\", \"0\", \"0\", \"0\"],\n",
        "[\"0\", \"0\", \"1\", \"0\", \"0\"],\n",
        "[\"0\", \"0\", \"0\", \"1\", \"1\"]\n",
        "]\n",
        "\n",
        "search_islands(grid)\n",
        "\n",
        "\n"
      ],
      "metadata": {
        "colab": {
          "base_uri": "https://localhost:8080/"
        },
        "id": "87zMdMM1Rs-o",
        "outputId": "5e4050e9-1190-40d0-b793-6c2c5b111969"
      },
      "execution_count": null,
      "outputs": [
        {
          "output_type": "execute_result",
          "data": {
            "text/plain": [
              "defaultdict(list, {0: [0, 1, 5, 6], 12: [12], 18: [18, 19]})"
            ]
          },
          "metadata": {},
          "execution_count": 13
        }
      ]
    },
    {
      "cell_type": "code",
      "source": [
        "def myAtoi(s):\n",
        "    if not s:\n",
        "        return 0\n",
        "    n=len(s)\n",
        "    i=0\n",
        "    res=0\n",
        "    while s[i]==' ':#空白を飛ばす\n",
        "        i+=1\n",
        "    #最初に見つかった文字による場合分け\n",
        "    p=1\n",
        "    if s[i]=='+':#＋のとき\n",
        "        i+=1\n",
        "    elif s[i]=='-':#ーのとき\n",
        "        p=-1\n",
        "        i+=1\n",
        "    elif isinstance(s[i],int):#数字のとき\n",
        "        res=int(s[i])\n",
        "    else:#それ以外のとき\n",
        "        print(res)\n",
        "        exit()#おしまい\n",
        "\n",
        "    while i<n and s[i] in '0123456789':#以後数字が続くまで\n",
        "        res=res*10+int(s[i])\n",
        "        if p==-1 and res*p<-2**31:\n",
        "            return -2**31\n",
        "        if p==1 and res>2**31-1:\n",
        "            return 2**31\n",
        "        i+=1\n",
        "\n",
        "    return res*p\n",
        "\n",
        "\n",
        "s=['42','-42',\"4193 with words\",\"words and 987\", \"-91283472332\",\"+-12\", \"\", \" +\" ]\n",
        "for e in s:\n",
        "    print(f'{e}: {myAtoi(e)}')\n"
      ],
      "metadata": {
        "colab": {
          "base_uri": "https://localhost:8080/"
        },
        "id": "MSYKs6gboXWl",
        "outputId": "43ed57ea-975f-49f0-871e-9d595eda9d27"
      },
      "execution_count": null,
      "outputs": [
        {
          "output_type": "stream",
          "name": "stdout",
          "text": [
            "0\n",
            "42: 42\n",
            "-42: -42\n",
            "0\n",
            "4193 with words: 4193\n",
            "0\n",
            "words and 987: 0\n",
            "-91283472332: -2147483648\n",
            "+-12: 0\n",
            ": 0\n",
            " +: 0\n"
          ]
        }
      ]
    },
    {
      "cell_type": "code",
      "source": [
        "class Node:\n",
        "    def __init__(self,key,val):\n",
        "        self.val=val\n",
        "        self.key=key\n",
        "        self.next=None\n",
        "        self.tail=None\n",
        "\n",
        "class LRUCache:\n",
        "    def __init__(self,capacity):\n",
        "        self.capacity=capacity\n",
        "        self.size=0\n",
        "        self.dic={}#キーは追加されたノードのキー、値はその前のノードの辞書\n",
        "        self.head=None\n",
        "\n",
        "    def put(self,key,val):\n",
        "        if self.head==None:\n",
        "            self.head=Node(key,val)\n",
        "            self.dic[key]=None#先頭の前はないのでNone\n",
        "            self.tail=self.head\n",
        "            self.size+=1\n",
        "            return self.dic\n",
        "        if key not in self.dic:#キーが登録されていない場合の処理\n",
        "            self.dic[key]=self.tail#辞書に現在の最後尾のノードを入れる\n",
        "            self.tail.next=Node(key,val)#最後尾につける\n",
        "            self.tail=self.tail.next#テイルを付け替える\n",
        "            self.size+=1\n",
        "        else:#キーが辞書に有る場合\n",
        "            pre_node=self.dic[key]#呼ばれたノードの前のノード\n",
        "            if not pre_node:#先頭が呼ばれた場合の処理\n",
        "                self.tail.next=self.head#最後尾の後ろにつける\n",
        "                self.dic[key]=self.tail#辞書を更新する\n",
        "                self.tail=self.tail.next#最後尾を更新する\n",
        "                self.tail.val=val#値を更新する\n",
        "                self.head=self.head.next\n",
        "                self.dic[self.head.val]=None\n",
        "                return self.dic\n",
        "            cur_node=pre_node.next#呼ばれたノード\n",
        "            pre_node.next=cur_node.next#ノードを外す\n",
        "            self.dic[key]=self.tail#辞書を更新\n",
        "            cur_node.val=val#valを更新\n",
        "            self.tail.next=cur_node#最後尾を付け替える\n",
        "            self.tail=cur_node\n",
        "            return self.dic\n",
        "        if self.size>self.capacity:#サイズが容量を超えている場合\n",
        "            pre=self.head#ヘッドを呼び出す\n",
        "            self.dic.pop(self.head.val)#辞書から削除する\n",
        "            self.head=pre.next#ヘッドを付け替える\n",
        "            self.dic[self.head.key]=None#辞書を更新\n",
        "            return self.dic\n",
        "        return self.dic\n",
        "\n",
        "    def get(self,key):\n",
        "        if key not in self.dic:\n",
        "            return -1\n",
        "        else:\n",
        "            pre_node=self.dic[key]#呼ばれたノードの前のノード\n",
        "            if not pre_node:#先頭が呼ばれた場合の処理\n",
        "                self.tail.next=self.head#最後尾の後ろにつける\n",
        "                self.dic[key]=self.tail#辞書を更新する\n",
        "                self.tail=self.tail.next#最後尾を更新する\n",
        "                self.head=self.head.next\n",
        "                self.dic[self.head.val]=None\n",
        "                return self.dic\n",
        "            cur_node=pre_node.next#呼ばれたノード\n",
        "            pre_node.next=cur_node.next#ノードを外す\n",
        "            self.dic[key]=self.tail#辞書を更新\n",
        "            self.tail.next=cur_node#最後尾を付け替える\n",
        "            self.tail=cur_node\n",
        "            return self.dic[key].next.val\n",
        "\n",
        "\n",
        "\n",
        "lru=LRUCache(3)\n",
        "lru.put(1,1)\n",
        "lru.put(2,3)\n",
        "lru.put(3,3)\n",
        "lru.put(2,4)\n",
        "lru.put(4,4)\n",
        "lru.get(2)"
      ],
      "metadata": {
        "colab": {
          "base_uri": "https://localhost:8080/"
        },
        "id": "97V1y6Lp6SbE",
        "outputId": "06a397d0-ba02-41b6-bd49-02db1a4c2b19"
      },
      "execution_count": null,
      "outputs": [
        {
          "output_type": "execute_result",
          "data": {
            "text/plain": [
              "4"
            ]
          },
          "metadata": {},
          "execution_count": 14
        }
      ]
    }
  ]
}